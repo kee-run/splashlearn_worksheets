{
 "cells": [
  {
   "cell_type": "code",
   "execution_count": 3,
   "metadata": {},
   "outputs": [
    {
     "name": "stdout",
     "output_type": "stream",
     "text": [
      "Looking in indexes: https://pypi.org/simple, https://pypi.ngc.nvidia.comNote: you may need to restart the kernel to use updated packages.\n",
      "\n",
      "Collecting beautifulsoup4\n",
      "  Downloading beautifulsoup4-4.12.3-py3-none-any.whl.metadata (3.8 kB)\n",
      "Collecting soupsieve>1.2 (from beautifulsoup4)\n",
      "  Downloading soupsieve-2.6-py3-none-any.whl.metadata (4.6 kB)\n",
      "Downloading beautifulsoup4-4.12.3-py3-none-any.whl (147 kB)\n",
      "Downloading soupsieve-2.6-py3-none-any.whl (36 kB)\n",
      "Installing collected packages: soupsieve, beautifulsoup4\n",
      "Successfully installed beautifulsoup4-4.12.3 soupsieve-2.6\n"
     ]
    }
   ],
   "source": [
    "%pip install beautifulsoup4"
   ]
  },
  {
   "cell_type": "code",
   "execution_count": 4,
   "metadata": {},
   "outputs": [
    {
     "name": "stdout",
     "output_type": "stream",
     "text": [
      "Looking in indexes: https://pypi.org/simple, https://pypi.ngc.nvidia.com\n",
      "Collecting pymupdf==1.23.0\n",
      "  Downloading PyMuPDF-1.23.0-cp311-none-win_amd64.whl.metadata (10.0 kB)\n",
      "Collecting PyMuPDFb==1.23.0 (from pymupdf==1.23.0)\n",
      "  Downloading PyMuPDFb-1.23.0-py3-none-win_amd64.whl.metadata (1.4 kB)\n",
      "Downloading PyMuPDF-1.23.0-cp311-none-win_amd64.whl (3.5 MB)\n",
      "   ---------------------------------------- 0.0/3.5 MB ? eta -:--:--\n",
      "   --------------- ------------------------ 1.3/3.5 MB 8.4 MB/s eta 0:00:01\n",
      "   ------------------------------ --------- 2.6/3.5 MB 6.9 MB/s eta 0:00:01\n",
      "   ---------------------------------------- 3.5/3.5 MB 7.3 MB/s eta 0:00:00\n",
      "Downloading PyMuPDFb-1.23.0-py3-none-win_amd64.whl (22.7 MB)\n",
      "   ---------------------------------------- 0.0/22.7 MB ? eta -:--:--\n",
      "   --- ------------------------------------ 2.1/22.7 MB 9.8 MB/s eta 0:00:03\n",
      "   ------- -------------------------------- 4.2/22.7 MB 10.5 MB/s eta 0:00:02\n",
      "   ----------- ---------------------------- 6.6/22.7 MB 10.6 MB/s eta 0:00:02\n",
      "   ---------------- ----------------------- 9.2/22.7 MB 11.0 MB/s eta 0:00:02\n",
      "   -------------------- ------------------- 11.5/22.7 MB 11.1 MB/s eta 0:00:02\n",
      "   ------------------------ --------------- 13.9/22.7 MB 11.2 MB/s eta 0:00:01\n",
      "   ----------------------------- ---------- 16.5/22.7 MB 11.4 MB/s eta 0:00:01\n",
      "   -------------------------------- ------- 18.4/22.7 MB 11.2 MB/s eta 0:00:01\n",
      "   ------------------------------------ --- 21.0/22.7 MB 11.3 MB/s eta 0:00:01\n",
      "   ---------------------------------------- 22.7/22.7 MB 11.2 MB/s eta 0:00:00\n",
      "Installing collected packages: PyMuPDFb, pymupdf\n",
      "Successfully installed PyMuPDFb-1.23.0 pymupdf-1.23.0\n",
      "Note: you may need to restart the kernel to use updated packages.\n"
     ]
    }
   ],
   "source": [
    "%pip install pymupdf==1.23.0"
   ]
  },
  {
   "cell_type": "code",
   "execution_count": 6,
   "metadata": {},
   "outputs": [
    {
     "name": "stdout",
     "output_type": "stream",
     "text": [
      "Looking in indexes: https://pypi.org/simple, https://pypi.ngc.nvidia.com\n",
      "Collecting pyyaml\n",
      "  Downloading PyYAML-6.0.2-cp311-cp311-win_amd64.whl.metadata (2.1 kB)\n",
      "Downloading PyYAML-6.0.2-cp311-cp311-win_amd64.whl (161 kB)\n",
      "Installing collected packages: pyyaml\n",
      "Successfully installed pyyaml-6.0.2\n",
      "Note: you may need to restart the kernel to use updated packages.\n"
     ]
    }
   ],
   "source": [
    "%pip install pyyaml\n"
   ]
  },
  {
   "cell_type": "code",
   "execution_count": 7,
   "metadata": {},
   "outputs": [
    {
     "name": "stdout",
     "output_type": "stream",
     "text": [
      "asttokens==3.0.0\n",
      "beautifulsoup4==4.12.3\n",
      "certifi==2024.12.14\n",
      "charset-normalizer==3.4.1\n",
      "colorama==0.4.6\n",
      "comm==0.2.2\n",
      "debugpy==1.8.12\n",
      "decorator==5.1.1\n",
      "executing==2.1.0\n",
      "idna==3.10\n",
      "ipykernel==6.29.5\n",
      "ipython==8.31.0\n",
      "jedi==0.19.2\n",
      "jupyter_client==8.6.3\n",
      "jupyter_core==5.7.2\n",
      "matplotlib-inline==0.1.7\n",
      "nest-asyncio==1.6.0\n",
      "numpy==2.2.2\n",
      "packaging==24.2\n",
      "pandas==2.2.3\n",
      "parso==0.8.4\n",
      "platformdirs==4.3.6\n",
      "prompt_toolkit==3.0.48\n",
      "psutil==6.1.1\n",
      "pure_eval==0.2.3\n",
      "Pygments==2.19.1\n",
      "PyMuPDF==1.23.0\n",
      "PyMuPDFb==1.23.0\n",
      "python-dateutil==2.9.0.post0\n",
      "pytz==2024.2\n",
      "pywin32==308\n",
      "PyYAML==6.0.2\n",
      "pyzmq==26.2.0\n",
      "requests==2.32.3\n",
      "six==1.17.0\n",
      "soupsieve==2.6\n",
      "stack-data==0.6.3\n",
      "tornado==6.4.2\n",
      "traitlets==5.14.3\n",
      "typing_extensions==4.12.2\n",
      "tzdata==2024.2\n",
      "urllib3==2.3.0\n",
      "wcwidth==0.2.13\n",
      "Note: you may need to restart the kernel to use updated packages.\n"
     ]
    }
   ],
   "source": [
    "pip freeze requirements.txt\n"
   ]
  },
  {
   "cell_type": "code",
   "execution_count": 22,
   "metadata": {},
   "outputs": [],
   "source": [
    "# De duplicate a CSV file and write to a new one\n",
    "import pandas as pd\n",
    "\n",
    "df = pd.read_csv('3rd_grade_pdfs.csv')"
   ]
  },
  {
   "cell_type": "code",
   "execution_count": 23,
   "metadata": {},
   "outputs": [
    {
     "name": "stdout",
     "output_type": "stream",
     "text": [
      "      Grade 3 not applicable       Unnamed: 1  \\\n",
      "0     Grade 3 not applicable              NaN   \n",
      "1           GRADE 2, GRADE 3  MATH WORKSHEETS   \n",
      "2  GRADE 1, GRADE 2, GRADE 3  MATH WORKSHEETS   \n",
      "3           GRADE 2, GRADE 3  MATH WORKSHEETS   \n",
      "4           GRADE 3, GRADE 4  MATH WORKSHEETS   \n",
      "5           GRADE 3, GRADE 4  MATH WORKSHEETS   \n",
      "6           GRADE 2, GRADE 3  MATH WORKSHEETS   \n",
      "7           GRADE 3, GRADE 4  MATH WORKSHEETS   \n",
      "8           GRADE 2, GRADE 3  MATH WORKSHEETS   \n",
      "9  GRADE 1, GRADE 2, GRADE 3  MATH WORKSHEETS   \n",
      "\n",
      "                                          Unnamed: 2  \\\n",
      "0                                                NaN   \n",
      "1  MULTIPLICATION WORKSHEETS, MULTIPLICATION STRA...   \n",
      "2     TIME WORKSHEETS, TIME IN HALF HOURS WORKSHEETS   \n",
      "3  NUMBER SENSE WORKSHEETS, SKIP COUNTING WORKSHEETS   \n",
      "4  WORD PROBLEMS WORKSHEETS, DIVISION WORD PROBLE...   \n",
      "5  ALGEBRA WORKSHEETS, FACTORS AND MULTIPLES WORK...   \n",
      "6  NUMBER SENSE WORKSHEETS, EVEN AND ODD NUMBERS ...   \n",
      "7  FRACTIONS WORKSHEETS, COMPARE FRACTIONS WORKSH...   \n",
      "8  MULTIPLICATION WORKSHEETS, MULTIPLICATION STRA...   \n",
      "9     TIME WORKSHEETS, TIME IN HALF HOURS WORKSHEETS   \n",
      "\n",
      "                                          Unnamed: 3  \n",
      "0                                                NaN  \n",
      "1  https://www.splashlearn.com/worksheet_uploads/...  \n",
      "2  https://www.splashlearn.com/worksheet_uploads/...  \n",
      "3  https://www.splashlearn.com/worksheet_uploads/...  \n",
      "4  https://www.splashlearn.com/worksheet_uploads/...  \n",
      "5  https://www.splashlearn.com/worksheet_uploads/...  \n",
      "6  https://www.splashlearn.com/worksheet_uploads/...  \n",
      "7  https://www.splashlearn.com/worksheet_uploads/...  \n",
      "8  https://www.splashlearn.com/worksheet_uploads/...  \n",
      "9  https://www.splashlearn.com/worksheet_uploads/...  \n"
     ]
    }
   ],
   "source": [
    "# Show the top 10 rows of the df\n",
    "print(df.head(10))"
   ]
  },
  {
   "cell_type": "code",
   "execution_count": 24,
   "metadata": {},
   "outputs": [
    {
     "name": "stdout",
     "output_type": "stream",
     "text": [
      "1313\n"
     ]
    }
   ],
   "source": [
    "# how long is the df\n",
    "print(len(df))"
   ]
  },
  {
   "cell_type": "code",
   "execution_count": 25,
   "metadata": {},
   "outputs": [],
   "source": [
    "# drop duplicates   \n",
    "df.drop_duplicates(inplace=True)"
   ]
  },
  {
   "cell_type": "code",
   "execution_count": 26,
   "metadata": {},
   "outputs": [
    {
     "name": "stdout",
     "output_type": "stream",
     "text": [
      "1306\n"
     ]
    }
   ],
   "source": [
    "#how long is df1\n",
    "print(len(df))"
   ]
  },
  {
   "cell_type": "code",
   "execution_count": 27,
   "metadata": {},
   "outputs": [],
   "source": [
    "# write it to a new csv\n",
    "df.to_csv('3rd_grade_pdfs_no_duplicates.csv', index=False)"
   ]
  }
 ],
 "metadata": {
  "kernelspec": {
   "display_name": ".venv",
   "language": "python",
   "name": "python3"
  },
  "language_info": {
   "codemirror_mode": {
    "name": "ipython",
    "version": 3
   },
   "file_extension": ".py",
   "mimetype": "text/x-python",
   "name": "python",
   "nbconvert_exporter": "python",
   "pygments_lexer": "ipython3",
   "version": "3.11.9"
  }
 },
 "nbformat": 4,
 "nbformat_minor": 2
}
